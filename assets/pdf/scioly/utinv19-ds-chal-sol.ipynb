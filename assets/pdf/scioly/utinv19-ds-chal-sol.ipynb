{
 "cells": [
  {
   "cell_type": "markdown",
   "metadata": {
    "colab_type": "text",
    "id": "I55OFF2QPeYy"
   },
   "source": [
    "# Coding Challenges: DNA and Amino Acids\n",
    "\n",
    "### Problem 1\n",
    "\n",
    "Given a string representing a strand of DNA, count the number of nucleotides in a string representing a single strand of DNA. The string will only have characters 'a', 'c', 'g', and 't' (uppercase or lowercase). Return the values as a tuple (A, C, G, T), where each number in the tuple is the number of times it appeared in the DNA strand.\n",
    "\n",
    "| Example Input|      Expected Return Value   |\n",
    "| :---:        |             :----:           | \n",
    "|\"acgtgca\"     |  (2, 2, 2, 1) |\n",
    "|\"GTCAatgggaa\" |  (4, 1, 4, 2) |"
   ]
  },
  {
   "cell_type": "code",
   "execution_count": 2,
   "metadata": {
    "colab": {},
    "colab_type": "code",
    "id": "wGKzR8gZPeYz"
   },
   "outputs": [],
   "source": [
    "def count_nucleotides(strand):\n",
    "    num_A = num_C = num_G = num_T = 0\n",
    "    strand = strand.lower()\n",
    "    num_A = strand.count('a')\n",
    "    num_G = strand.count('g')\n",
    "    num_C = strand.count('c')\n",
    "    num_T = strand.count('t')\n",
    "    return num_A, num_C, num_G, num_T"
   ]
  },
  {
   "cell_type": "markdown",
   "metadata": {
    "colab_type": "text",
    "id": "Baq1rbi_PeY1"
   },
   "source": [
    "### Problem 2\n",
    "\n",
    "Given two strings representing strands of DNA, check whether they can be joined, with ends aligned with each other. The strings will only have characters 'a', 'c', 'g', and 't' (uppercase or lowercase). Remember that A pairs with T and C pairs with G. Return a boolean representing whether they can be joined. If the two strands of DNA are not equal length, return False. (Strands can't be reversed, i.e. \"atc\" and \"gat\" don't match.)\n",
    "\n",
    "| Example Input|      Expected Return Value   |\n",
    "| :---:        |             :----:           | \n",
    "|\"acgtgca\", \"TGcacgT\"     |  True |\n",
    "|\"ata\", \"ggg\" |  False |\n",
    "|\"atc\", \"gat\" |  False |\n",
    "|\"ata\", \"tatg\" |  False |"
   ]
  },
  {
   "cell_type": "code",
   "execution_count": 3,
   "metadata": {
    "colab": {},
    "colab_type": "code",
    "id": "isATpAElPeY2"
   },
   "outputs": [],
   "source": [
    "def check_match(strand1, strand2):\n",
    "    matches = {\"a\": \"t\", \"t\": \"a\", \"c\": \"g\", \"g\": \"c\"}\n",
    "    strand_match = \"\"\n",
    "    for nucleotide in strand1.lower():\n",
    "        strand_match += matches[nucleotide]\n",
    "    return strand_match == strand2.lower()\n",
    "    return False"
   ]
  },
  {
   "cell_type": "markdown",
   "metadata": {
    "colab_type": "text",
    "id": "8z1EzMR-PeY4"
   },
   "source": [
    "### Problem 3\n",
    "\n",
    "Given a string representing a strand of DNA (containing only the characters 'a', 'c', 'g', and 't', uppercase or lowercase), return a list of strings containing the sequence of amino acids the DNA encodes. If the DNA has \"leftover\" nucleotides, ignore them. Ignore all nucleotides that come after a stop codon.\n",
    "\n",
    "| Example Input|      Expected Return Value   |\n",
    "| :---:        |             :----:           | \n",
    "|\"gcttgtgggac\" | ['ala', 'cys', 'gly'] |\n",
    "|\"catcacg\"     | ['his', 'his'] |\n",
    "|\"gcctagattctcccg\"| ['ala', 'stp'] |"
   ]
  },
  {
   "cell_type": "markdown",
   "metadata": {},
   "source": [
    "But first, let's establish some helper data/functions. Here we define the global variables `amino2codon` and `codon2amino`. The dictionary `amino2codon` is initialized for you, and you should not modify it. However, it is cumbersome/inefficient to use this data structure to solve this problem. Instead, you should reorganize the data in a useful way in the function `process_amino2codon()`; this new data structure is saved in `codon2amino`. Use this new data structure to implement `dna_to_amino()`."
   ]
  },
  {
   "cell_type": "code",
   "execution_count": 4,
   "metadata": {
    "colab": {},
    "colab_type": "code",
    "id": "G0_ME-Y7PeY5"
   },
   "outputs": [],
   "source": [
    "amino2codon = {\n",
    "    \"ala\": [\"GCT\", \"GCC\", \"GCA\", \"GCG\" ],\n",
    "    \"leu\": [\"TTA\", \"TTG\", \"CTT\", \"CTC\", \"CTA\", \"CTG\"],\n",
    "    \"arg\": [\"CGT\", \"CGC\", \"CGA\", \"CGG\", \"AGA\", \"AGG\"],\n",
    "    \"lys\": [\"AAA\", \"AAG\"],\n",
    "    \"asn\": [\"AAT\", \"AAC\"],\n",
    "    \"met\": [\"ATG\"],\n",
    "    \"asp\": [\"GAT\", \"GAC\" ],\n",
    "    \"phe\": [\"TTT\", \"TTC\"],\n",
    "    \"cys\": [\"TGT\", \"TGC\" ],\n",
    "    \"pro\": [\"CCT\", \"CCC\", \"CCA\", \"CCG\"],\n",
    "    \"gln\": [\"CAA\", \"CAG\" ],\n",
    "    \"ser\": [\"TCT\", \"TCC\", \"TCA\", \"TCG\", \"AGT\", \"AGC\"],\n",
    "    \"glu\": [\"GAA\", \"GAG\" ],\n",
    "    \"thr\": [\"ACT\", \"ACC\", \"ACA\", \"ACG\"],\n",
    "    \"gly\": [\"GGT\", \"GGC\", \"GGA\", \"GGG\" ],\n",
    "    \"trp\": [\"TGG\"],\n",
    "    \"his\": [\"CAT\", \"CAC\" ],\n",
    "    \"tyr\": [\"TAT\", \"TAC\"],\n",
    "    \"ile\": [\"ATT\", \"ATC\", \"ATA\" ],\n",
    "    \"val\": [\"GTT\", \"GTC\", \"GTA\", \"GTG\"],\n",
    "    \"stp\": [\"TAA\", \"TGA\", \"TAG\"]\n",
    "}\n",
    "\n",
    "def process_amino2codon():\n",
    "    codon2amino = {}\n",
    "    for amino, codons in amino2codon.items():\n",
    "        for codon in codons:\n",
    "            codon2amino[codon] = amino\n",
    "    return codon2amino\n",
    "\n",
    "codon2amino = process_amino2codon()"
   ]
  },
  {
   "cell_type": "markdown",
   "metadata": {},
   "source": [
    "Complete the function `dna_to_amino()` to complete the challenge. For full credit, you must adequately implement `process_amino2codon()`. You can get partial credit for correctly completing `dna_to_amino()` without implementing `process_amino2codon()`."
   ]
  },
  {
   "cell_type": "code",
   "execution_count": 5,
   "metadata": {},
   "outputs": [],
   "source": [
    "def dna_to_amino(strand):\n",
    "    amino_acids = []\n",
    "    codon = \"\"\n",
    "    for nucleotide in strand:\n",
    "        codon += nucleotide\n",
    "        if len(codon) == 3:\n",
    "            codon = codon.upper()\n",
    "            amino = codon2amino[codon]\n",
    "            amino_acids.append(amino)\n",
    "            if amino == \"stp\":\n",
    "                break;\n",
    "            codon = \"\"\n",
    "    return amino_acids"
   ]
  },
  {
   "cell_type": "markdown",
   "metadata": {},
   "source": [
    "### Problem 4\n",
    "\n",
    "In a protein, disulfide bonds can form between two cysteine amino acids. These bonds are critical in maintining the folded structure of the protein (see the image below). However, the two cysteines have to be \"pointing towards each other\" to form the bond. Consequently, there has to be enough space between the cysteines for the protein to fold over and the two amino acids face each other. Let's assume that for two cysteines to form a disulfide bond, they have to be separated by at least 5 amino acids (i.e. 5 amino acids between them).\n",
    "\n",
    "![title](images/disulfide.png)\n",
    "\n",
    "Given an array of strings representing the amino acids coded by a DNA strand, check whether at least two simultaneous disulfide bonds can form in the resulting protein. Return True if at least two simultaneous disulfide bonds are possible, and False otherwise. Ignore all nucleotides that come after a stop codon. Each string will be the standard 3-character abbreviation (lowercase) for the amino acid (e.g. \"cys\" for cysteine, \"stp\" for stop).\n",
    "\n",
    "| Example Input|      Expected Return Value   |\n",
    "| :---:        |             :----:           | \n",
    "|[\"cys\", \"cys\", \"trp\", \"trp\", \"trp\", \"trp\", \"cys\", \"cys\"] | True |\n",
    "|[\"cys\", \"trp\", \"trp\", \"trp\", \"trp\", \"trp\", \"cys\", \"trp\", \"trp\", \"trp\", \"trp\", \"trp\", \"cys\"]     | False |\n",
    "|[\"cys\", \"cys\", \"trp\", \"trp\", \"stp\", \"trp\", \"trp\", \"cys\", \"cys\"]| False |"
   ]
  },
  {
   "cell_type": "code",
   "execution_count": 6,
   "metadata": {},
   "outputs": [],
   "source": [
    "def two_disulfides(aminos):\n",
    "    if \"stp\" in aminos:\n",
    "        stop_ind = aminos.index(\"stp\")\n",
    "        aminos = aminos[:stop_ind]\n",
    "    cys_ind = []\n",
    "    for i in range(len(aminos)):\n",
    "        if aminos[i] == \"cys\":\n",
    "            cys_ind.append(i)\n",
    "    if len(cys_ind) < 4:\n",
    "        return False\n",
    "    return cys_ind[-2]-cys_ind[0] >= 5 and cys_ind[-1]-cys_ind[1] >= 5\n",
    "    return True"
   ]
  },
  {
   "cell_type": "markdown",
   "metadata": {},
   "source": [
    "# Tests\n",
    "\n",
    "Don't touch this code. Run this cell to evaluate your code. These are the tests that will be used to score the correctness of your code. If you accidentally mess something up here, let me know. If this cell is found to be intentionally tampered with (to increase your score), your team will automatically be disqualified."
   ]
  },
  {
   "cell_type": "code",
   "execution_count": 7,
   "metadata": {},
   "outputs": [
    {
     "name": "stdout",
     "output_type": "stream",
     "text": [
      "Problem 1\n",
      "\tPASS\n",
      "\n",
      "Problem 2\n",
      "\tPASS\n",
      "\n",
      "Problem 3\n",
      "\tPASS\n",
      "\n",
      "Problem 4\n",
      "\tPASS\n",
      "\n",
      "total: 30.0\n"
     ]
    }
   ],
   "source": [
    "def eval_test(inputs, answers, eval_func):\n",
    "    pass_test = True\n",
    "    for i in range(len(inputs)):\n",
    "        inp = inputs[i]\n",
    "        ans = answers[i]\n",
    "        out = eval_func(*inp)\n",
    "        if out != ans:\n",
    "            pass_test = False\n",
    "            print(\"\\tOn input {}, I expected {} but got {}\".format(inp, ans, out))\n",
    "    print(\"\\tPASS\" if pass_test else \"\\tFAIL\")\n",
    "    print()\n",
    "    return pass_test\n",
    "\n",
    "score = 0\n",
    "\n",
    "# Problem 1\n",
    "inputs = [\n",
    "    (\"acgtgca\",),\n",
    "    (\"GTCAatgggaa\",),\n",
    "    (\"gggTACcaGattagctatacgacggatc\",),\n",
    "    (\"a\",),\n",
    "    (\"atgcgtca\",)\n",
    "]\n",
    "answers = [\n",
    "    (2, 2, 2, 1),\n",
    "    (4, 1, 4, 2),\n",
    "    (8, 6, 8, 6),\n",
    "    (1, 0, 0, 0),\n",
    "    (2, 2, 2, 2)\n",
    "]\n",
    "print(\"Problem 1\")\n",
    "score += 7.5 if eval_test(inputs, answers, count_nucleotides) else 0\n",
    "\n",
    "# Problem 2\n",
    "inputs = [\n",
    "    (\"acgtgca\", \"TGcacgT\"),\n",
    "    (\"ata\", \"ggg\"),\n",
    "    (\"atc\", \"gat\"),\n",
    "    (\"ata\", \"tatg\"),\n",
    "    (\"atgcgtca\", \"TACGCAGT\")\n",
    "]\n",
    "answers = [\n",
    "    True,\n",
    "    False,\n",
    "    False,\n",
    "    False,\n",
    "    True\n",
    "]\n",
    "print(\"Problem 2\")\n",
    "score += 7.5 if eval_test(inputs, answers, check_match) else 0\n",
    "\n",
    "# Problem 3\n",
    "inputs = [\n",
    "    (\"gcttgtgggac\",),\n",
    "    (\"catcacg\",),\n",
    "    (\"gcctagattctcccg\",),\n",
    "    (\"gctagtagcatgataagatgcgcataactggccgat\",),\n",
    "    (\"CATcatCATcatCATcatCAT\",)\n",
    "]\n",
    "answers = [\n",
    "    ['ala', 'cys', 'gly'],\n",
    "    ['his', 'his'],\n",
    "    ['ala', 'stp'],\n",
    "    ['ala', 'ser', 'ser', 'met', 'ile', 'arg', 'cys', 'ala', 'stp'],\n",
    "    ['his', 'his', 'his', 'his', 'his', 'his', 'his']\n",
    "]\n",
    "print(\"Problem 3\")\n",
    "score += 7.5 if eval_test(inputs, answers, dna_to_amino) else 0\n",
    "\n",
    "# Problem 4\n",
    "inputs = [\n",
    "    ([\"cys\", \"cys\", \"trp\", \"trp\", \"trp\", \"trp\", \"cys\", \"cys\"],),\n",
    "    ([\"cys\", \"trp\", \"trp\", \"trp\", \"trp\", \"trp\", \"cys\", \"trp\", \"trp\", \"trp\", \"trp\", \"trp\", \"cys\"],),\n",
    "    ([\"cys\", \"cys\", \"trp\", \"trp\", \"stp\", \"trp\", \"trp\", \"cys\", \"cys\"],),\n",
    "    ([\"gly\", \"cys\", \"his\", \"ser\", \"gly\", \"ile\", \"glu\", \"met\", \"cys\", \"cys\", \"cys\"],),\n",
    "    ([\"gly\", \"cys\", \"his\", \"ser\", \"cys\", \"ile\", \"glu\", \"met\", \"cys\", \"cys\", \"cys\"],),\n",
    "]\n",
    "answers = [\n",
    "    True,\n",
    "    False,\n",
    "    False,\n",
    "    False,\n",
    "    True\n",
    "]\n",
    "print(\"Problem 4\")\n",
    "score += 7.5 if eval_test(inputs, answers, two_disulfides) else 0\n",
    "\n",
    "print(\"total: {}\".format(score))"
   ]
  },
  {
   "cell_type": "code",
   "execution_count": null,
   "metadata": {},
   "outputs": [],
   "source": []
  }
 ],
 "metadata": {
  "colab": {
   "collapsed_sections": [],
   "name": "dum.ipynb",
   "provenance": [],
   "version": "0.3.2"
  },
  "kernelspec": {
   "display_name": "Python 3",
   "language": "python",
   "name": "python3"
  },
  "language_info": {
   "codemirror_mode": {
    "name": "ipython",
    "version": 3
   },
   "file_extension": ".py",
   "mimetype": "text/x-python",
   "name": "python",
   "nbconvert_exporter": "python",
   "pygments_lexer": "ipython3",
   "version": "3.7.1"
  }
 },
 "nbformat": 4,
 "nbformat_minor": 1
}
